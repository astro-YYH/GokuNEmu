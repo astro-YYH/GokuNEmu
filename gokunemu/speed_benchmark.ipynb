{
 "cells": [
  {
   "cell_type": "code",
   "execution_count": 1,
   "metadata": {},
   "outputs": [],
   "source": [
    "import torch\n",
    "import numpy as np\n",
    "import time\n",
    "import sys\n",
    "sys.path.append(\"../\") # Add parent directory to path"
   ]
  },
  {
   "cell_type": "code",
   "execution_count": 2,
   "metadata": {},
   "outputs": [
    {
     "name": "stdout",
     "output_type": "stream",
     "text": [
      "Using device: cpu\n"
     ]
    }
   ],
   "source": [
    "# Check if GPU is available\n",
    "# if torch.cuda.is_available():\n",
    "#     device = torch.device(\"cuda\")\n",
    "#     print(\"Using GPU:\", torch.cuda.get_device_name(0))\n",
    "device = torch.device(\"cpu\")\n",
    "print(\"Using device:\", device)"
   ]
  },
  {
   "cell_type": "code",
   "execution_count": 3,
   "metadata": {},
   "outputs": [],
   "source": [
    "x_test = np.array([[ 2.491600e-01,  4.253000e-02,  6.280533e-01,  2.990667e-09,\n",
    "         9.150000e-01, -6.479667e-01, -6.876667e-01,  4.940000e-01,\n",
    "         4.139667e+00, -2.000000e-04],\n",
    "       [ 3.106000e-01,  4.611000e-02,  6.677333e-01,  1.054667e-09,\n",
    "         1.076600e+00, -8.505000e-01, -1.924333e+00,  3.868000e-01,\n",
    "         2.247533e+00,  1.940000e-02],\n",
    "       [ 3.619600e-01,  5.041000e-02,  7.133867e-01,  1.841333e-09,\n",
    "         8.010000e-01,  8.363333e-02, -6.456667e-01,  7.960000e-02,\n",
    "         3.057133e+00, -3.313333e-02],\n",
    "       [ 2.760400e-01,  4.927000e-02,  6.604800e-01,  1.588000e-09,\n",
    "         1.073800e+00, -1.218367e+00, -1.443667e+00,  5.000000e-02,\n",
    "         2.683000e+00,  2.620000e-02],\n",
    "       [ 2.930800e-01,  4.241000e-02,  7.146667e-01,  1.724000e-09,\n",
    "         9.174000e-01,  1.518333e-01, -2.554333e+00,  3.084000e-01,\n",
    "         3.992467e+00, -4.860000e-02],\n",
    "       [ 3.790000e-01,  5.295000e-02,  6.197333e-01,  2.673333e-09,\n",
    "         8.686000e-01, -3.627667e-01,  3.000000e-03,  5.260000e-01,\n",
    "         3.265667e+00, -6.666667e-05],\n",
    "       [ 2.311600e-01,  4.725000e-02,  7.253333e-01,  2.116000e-09,\n",
    "         8.342000e-01, -1.129500e+00, -1.416667e-01,  2.212000e-01,\n",
    "         4.090600e+00,  2.233333e-02],\n",
    "       [ 3.031600e-01,  4.481000e-02,  6.020267e-01,  2.588000e-09,\n",
    "         1.065800e+00, -7.637000e-01, -1.625667e+00,  1.708000e-01,\n",
    "         3.149133e+00, -4.846667e-02],\n",
    "       [ 3.698800e-01,  5.025000e-02,  7.061333e-01,  1.564000e-09,\n",
    "         9.110000e-01,  1.559667e-01, -2.069000e+00,  4.684000e-01,\n",
    "         2.216867e+00,  1.180000e-02],\n",
    "       [ 2.647600e-01,  4.543000e-02,  6.939733e-01,  2.956000e-09,\n",
    "         8.854000e-01, -1.088167e+00, -5.196667e-01,  1.300000e-01,\n",
    "         3.054067e+00, -4.073333e-02]])"
   ]
  },
  {
   "cell_type": "code",
   "execution_count": 4,
   "metadata": {},
   "outputs": [],
   "source": [
    "zs = [0.,.2, .4, .6, .8, 1.]"
   ]
  },
  {
   "cell_type": "code",
   "execution_count": 5,
   "metadata": {},
   "outputs": [
    {
     "data": {
      "text/plain": [
       "(10, 10)"
      ]
     },
     "execution_count": 5,
     "metadata": {},
     "output_type": "execute_result"
    }
   ],
   "source": [
    "x_test.shape"
   ]
  },
  {
   "cell_type": "code",
   "execution_count": 6,
   "metadata": {},
   "outputs": [
    {
     "ename": "ImportError",
     "evalue": "attempted relative import with no known parent package",
     "output_type": "error",
     "traceback": [
      "\u001b[0;31m---------------------------------------------------------------------------\u001b[0m",
      "\u001b[0;31mImportError\u001b[0m                               Traceback (most recent call last)",
      "Cell \u001b[0;32mIn[6], line 1\u001b[0m\n\u001b[0;32m----> 1\u001b[0m \u001b[38;5;28;01mfrom\u001b[39;00m \u001b[38;5;21;01m__init__\u001b[39;00m \u001b[38;5;28;01mimport\u001b[39;00m MatterPowerEmulator\n\u001b[1;32m      2\u001b[0m emu \u001b[38;5;241m=\u001b[39m MatterPowerEmulator(device\u001b[38;5;241m=\u001b[39mdevice)\n",
      "File \u001b[0;32m~/Desktop/GitReps/GokuNEmu/gokunemu/__init__.py:3\u001b[0m\n\u001b[1;32m      1\u001b[0m \u001b[38;5;66;03m# import sys\u001b[39;00m\n\u001b[1;32m      2\u001b[0m \u001b[38;5;28;01mimport\u001b[39;00m \u001b[38;5;21;01mnumpy\u001b[39;00m \u001b[38;5;28;01mas\u001b[39;00m \u001b[38;5;21;01mnp\u001b[39;00m\n\u001b[0;32m----> 3\u001b[0m \u001b[38;5;28;01mfrom\u001b[39;00m \u001b[38;5;21;01m.\u001b[39;00m\u001b[38;5;21;01mmfbox\u001b[39;00m \u001b[38;5;28;01mimport\u001b[39;00m gokunet_df_ratio\n\u001b[1;32m      4\u001b[0m \u001b[38;5;28;01mfrom\u001b[39;00m \u001b[38;5;21;01mscipy\u001b[39;00m\u001b[38;5;21;01m.\u001b[39;00m\u001b[38;5;21;01minterpolate\u001b[39;00m \u001b[38;5;28;01mimport\u001b[39;00m interp1d\n\u001b[1;32m      6\u001b[0m \u001b[38;5;28;01mdef\u001b[39;00m \u001b[38;5;21msigmoid_ramp\u001b[39m(x, x_start, x_end, sharpness\u001b[38;5;241m=\u001b[39m\u001b[38;5;241m10\u001b[39m):\n",
      "\u001b[0;31mImportError\u001b[0m: attempted relative import with no known parent package"
     ]
    }
   ],
   "source": [
    "from __init__ import MatterPowerEmulator\n",
    "emu = MatterPowerEmulator(device=device)"
   ]
  },
  {
   "cell_type": "code",
   "execution_count": null,
   "metadata": {},
   "outputs": [
    {
     "name": "stdout",
     "output_type": "stream",
     "text": [
      "1.69 ms ± 74.5 µs per loop (mean ± std. dev. of 7 runs, 1,000 loops each)\n"
     ]
    }
   ],
   "source": [
    "# test speed\n",
    "# a bunch of calls to the emulator\n",
    "\n",
    "%timeit emu.predict(x_test[0], redshifts=zs)"
   ]
  },
  {
   "cell_type": "code",
   "execution_count": null,
   "metadata": {},
   "outputs": [
    {
     "name": "stdout",
     "output_type": "stream",
     "text": [
      "Average time per call: 0.001681 seconds\n"
     ]
    }
   ],
   "source": [
    "\n",
    "\n",
    "n_calls = 5000  \n",
    "start = time.time()\n",
    "for _ in range(n_calls):\n",
    "    _ = emu.predict(x_test[0], redshifts=[0.,1.1,2.09, 0.33,.44])\n",
    "end = time.time()\n",
    "\n",
    "print(f\"Average time per call: {(end - start) / n_calls:.6f} seconds\")\n"
   ]
  },
  {
   "cell_type": "code",
   "execution_count": null,
   "metadata": {},
   "outputs": [
    {
     "name": "stdout",
     "output_type": "stream",
     "text": [
      "Average time per call: 0.003518 seconds\n"
     ]
    }
   ],
   "source": [
    "# multiple cosmologies\n",
    "\n",
    "n_calls = 1000  \n",
    "start = time.time()\n",
    "for _ in range(n_calls):\n",
    "    _ = emu.predict(x_test, redshifts=[0.,1.1,2.09, 0.33,.44])\n",
    "end = time.time()\n",
    "\n",
    "print(f\"Average time per call: {(end - start) / n_calls:.6f} seconds\")\n"
   ]
  }
 ],
 "metadata": {
  "kernelspec": {
   "display_name": "base",
   "language": "python",
   "name": "python3"
  },
  "language_info": {
   "codemirror_mode": {
    "name": "ipython",
    "version": 3
   },
   "file_extension": ".py",
   "mimetype": "text/x-python",
   "name": "python",
   "nbconvert_exporter": "python",
   "pygments_lexer": "ipython3",
   "version": "3.12.2"
  }
 },
 "nbformat": 4,
 "nbformat_minor": 2
}
